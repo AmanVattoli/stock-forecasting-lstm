{
 "cells": [
  {
   "cell_type": "code",
   "execution_count": 1,
   "id": "fa652a18-bf5b-4f2a-8fea-8ad2bbd00773",
   "metadata": {},
   "outputs": [
    {
     "data": {
      "text/html": [
       "<div>\n",
       "<style scoped>\n",
       "    .dataframe tbody tr th:only-of-type {\n",
       "        vertical-align: middle;\n",
       "    }\n",
       "\n",
       "    .dataframe tbody tr th {\n",
       "        vertical-align: top;\n",
       "    }\n",
       "\n",
       "    .dataframe thead th {\n",
       "        text-align: right;\n",
       "    }\n",
       "</style>\n",
       "<table border=\"1\" class=\"dataframe\">\n",
       "  <thead>\n",
       "    <tr style=\"text-align: right;\">\n",
       "      <th></th>\n",
       "      <th>Date</th>\n",
       "      <th>Open</th>\n",
       "      <th>High</th>\n",
       "      <th>Low</th>\n",
       "      <th>Close</th>\n",
       "      <th>Adj Close</th>\n",
       "      <th>Volume</th>\n",
       "    </tr>\n",
       "  </thead>\n",
       "  <tbody>\n",
       "    <tr>\n",
       "      <th>0</th>\n",
       "      <td>1986-03-13</td>\n",
       "      <td>0.088542</td>\n",
       "      <td>0.101563</td>\n",
       "      <td>0.088542</td>\n",
       "      <td>0.097222</td>\n",
       "      <td>0.060055</td>\n",
       "      <td>1031788800</td>\n",
       "    </tr>\n",
       "    <tr>\n",
       "      <th>1</th>\n",
       "      <td>1986-03-14</td>\n",
       "      <td>0.097222</td>\n",
       "      <td>0.102431</td>\n",
       "      <td>0.097222</td>\n",
       "      <td>0.100694</td>\n",
       "      <td>0.062199</td>\n",
       "      <td>308160000</td>\n",
       "    </tr>\n",
       "    <tr>\n",
       "      <th>2</th>\n",
       "      <td>1986-03-17</td>\n",
       "      <td>0.100694</td>\n",
       "      <td>0.103299</td>\n",
       "      <td>0.100694</td>\n",
       "      <td>0.102431</td>\n",
       "      <td>0.063272</td>\n",
       "      <td>133171200</td>\n",
       "    </tr>\n",
       "    <tr>\n",
       "      <th>3</th>\n",
       "      <td>1986-03-18</td>\n",
       "      <td>0.102431</td>\n",
       "      <td>0.103299</td>\n",
       "      <td>0.098958</td>\n",
       "      <td>0.099826</td>\n",
       "      <td>0.061663</td>\n",
       "      <td>67766400</td>\n",
       "    </tr>\n",
       "    <tr>\n",
       "      <th>4</th>\n",
       "      <td>1986-03-19</td>\n",
       "      <td>0.099826</td>\n",
       "      <td>0.100694</td>\n",
       "      <td>0.097222</td>\n",
       "      <td>0.098090</td>\n",
       "      <td>0.060591</td>\n",
       "      <td>47894400</td>\n",
       "    </tr>\n",
       "    <tr>\n",
       "      <th>...</th>\n",
       "      <td>...</td>\n",
       "      <td>...</td>\n",
       "      <td>...</td>\n",
       "      <td>...</td>\n",
       "      <td>...</td>\n",
       "      <td>...</td>\n",
       "      <td>...</td>\n",
       "    </tr>\n",
       "    <tr>\n",
       "      <th>9646</th>\n",
       "      <td>2024-06-24</td>\n",
       "      <td>449.799988</td>\n",
       "      <td>452.750000</td>\n",
       "      <td>446.410004</td>\n",
       "      <td>447.670013</td>\n",
       "      <td>447.670013</td>\n",
       "      <td>15913700</td>\n",
       "    </tr>\n",
       "    <tr>\n",
       "      <th>9647</th>\n",
       "      <td>2024-06-25</td>\n",
       "      <td>448.250000</td>\n",
       "      <td>451.420013</td>\n",
       "      <td>446.750000</td>\n",
       "      <td>450.950012</td>\n",
       "      <td>450.950012</td>\n",
       "      <td>16747500</td>\n",
       "    </tr>\n",
       "    <tr>\n",
       "      <th>9648</th>\n",
       "      <td>2024-06-26</td>\n",
       "      <td>449.000000</td>\n",
       "      <td>453.600006</td>\n",
       "      <td>448.190002</td>\n",
       "      <td>452.160004</td>\n",
       "      <td>452.160004</td>\n",
       "      <td>16507000</td>\n",
       "    </tr>\n",
       "    <tr>\n",
       "      <th>9649</th>\n",
       "      <td>2024-06-27</td>\n",
       "      <td>452.179993</td>\n",
       "      <td>456.170013</td>\n",
       "      <td>451.769989</td>\n",
       "      <td>452.850006</td>\n",
       "      <td>452.850006</td>\n",
       "      <td>14806300</td>\n",
       "    </tr>\n",
       "    <tr>\n",
       "      <th>9650</th>\n",
       "      <td>2024-06-28</td>\n",
       "      <td>453.070007</td>\n",
       "      <td>455.380005</td>\n",
       "      <td>446.410004</td>\n",
       "      <td>446.950012</td>\n",
       "      <td>446.950012</td>\n",
       "      <td>28333300</td>\n",
       "    </tr>\n",
       "  </tbody>\n",
       "</table>\n",
       "<p>9651 rows × 7 columns</p>\n",
       "</div>"
      ],
      "text/plain": [
       "            Date        Open        High         Low       Close   Adj Close  \\\n",
       "0     1986-03-13    0.088542    0.101563    0.088542    0.097222    0.060055   \n",
       "1     1986-03-14    0.097222    0.102431    0.097222    0.100694    0.062199   \n",
       "2     1986-03-17    0.100694    0.103299    0.100694    0.102431    0.063272   \n",
       "3     1986-03-18    0.102431    0.103299    0.098958    0.099826    0.061663   \n",
       "4     1986-03-19    0.099826    0.100694    0.097222    0.098090    0.060591   \n",
       "...          ...         ...         ...         ...         ...         ...   \n",
       "9646  2024-06-24  449.799988  452.750000  446.410004  447.670013  447.670013   \n",
       "9647  2024-06-25  448.250000  451.420013  446.750000  450.950012  450.950012   \n",
       "9648  2024-06-26  449.000000  453.600006  448.190002  452.160004  452.160004   \n",
       "9649  2024-06-27  452.179993  456.170013  451.769989  452.850006  452.850006   \n",
       "9650  2024-06-28  453.070007  455.380005  446.410004  446.950012  446.950012   \n",
       "\n",
       "          Volume  \n",
       "0     1031788800  \n",
       "1      308160000  \n",
       "2      133171200  \n",
       "3       67766400  \n",
       "4       47894400  \n",
       "...          ...  \n",
       "9646    15913700  \n",
       "9647    16747500  \n",
       "9648    16507000  \n",
       "9649    14806300  \n",
       "9650    28333300  \n",
       "\n",
       "[9651 rows x 7 columns]"
      ]
     },
     "execution_count": 1,
     "metadata": {},
     "output_type": "execute_result"
    }
   ],
   "source": [
    "import pandas as pd\n",
    "import numpy as np\n",
    "import matplotlib.pyplot as plt\n",
    "\n",
    "import torch\n",
    "import torch.nn as nn\n",
    "\n",
    "data = pd.read_csv(\"MSFT.csv\")\n",
    "\n",
    "data"
   ]
  },
  {
   "cell_type": "code",
   "execution_count": 2,
   "id": "3fe66fae-1914-411f-a989-74b8bc10f996",
   "metadata": {},
   "outputs": [
    {
     "data": {
      "text/html": [
       "<div>\n",
       "<style scoped>\n",
       "    .dataframe tbody tr th:only-of-type {\n",
       "        vertical-align: middle;\n",
       "    }\n",
       "\n",
       "    .dataframe tbody tr th {\n",
       "        vertical-align: top;\n",
       "    }\n",
       "\n",
       "    .dataframe thead th {\n",
       "        text-align: right;\n",
       "    }\n",
       "</style>\n",
       "<table border=\"1\" class=\"dataframe\">\n",
       "  <thead>\n",
       "    <tr style=\"text-align: right;\">\n",
       "      <th></th>\n",
       "      <th>Date</th>\n",
       "      <th>Close</th>\n",
       "    </tr>\n",
       "  </thead>\n",
       "  <tbody>\n",
       "    <tr>\n",
       "      <th>0</th>\n",
       "      <td>1986-03-13</td>\n",
       "      <td>0.097222</td>\n",
       "    </tr>\n",
       "    <tr>\n",
       "      <th>1</th>\n",
       "      <td>1986-03-14</td>\n",
       "      <td>0.100694</td>\n",
       "    </tr>\n",
       "    <tr>\n",
       "      <th>2</th>\n",
       "      <td>1986-03-17</td>\n",
       "      <td>0.102431</td>\n",
       "    </tr>\n",
       "    <tr>\n",
       "      <th>3</th>\n",
       "      <td>1986-03-18</td>\n",
       "      <td>0.099826</td>\n",
       "    </tr>\n",
       "    <tr>\n",
       "      <th>4</th>\n",
       "      <td>1986-03-19</td>\n",
       "      <td>0.098090</td>\n",
       "    </tr>\n",
       "    <tr>\n",
       "      <th>...</th>\n",
       "      <td>...</td>\n",
       "      <td>...</td>\n",
       "    </tr>\n",
       "    <tr>\n",
       "      <th>9646</th>\n",
       "      <td>2024-06-24</td>\n",
       "      <td>447.670013</td>\n",
       "    </tr>\n",
       "    <tr>\n",
       "      <th>9647</th>\n",
       "      <td>2024-06-25</td>\n",
       "      <td>450.950012</td>\n",
       "    </tr>\n",
       "    <tr>\n",
       "      <th>9648</th>\n",
       "      <td>2024-06-26</td>\n",
       "      <td>452.160004</td>\n",
       "    </tr>\n",
       "    <tr>\n",
       "      <th>9649</th>\n",
       "      <td>2024-06-27</td>\n",
       "      <td>452.850006</td>\n",
       "    </tr>\n",
       "    <tr>\n",
       "      <th>9650</th>\n",
       "      <td>2024-06-28</td>\n",
       "      <td>446.950012</td>\n",
       "    </tr>\n",
       "  </tbody>\n",
       "</table>\n",
       "<p>9651 rows × 2 columns</p>\n",
       "</div>"
      ],
      "text/plain": [
       "            Date       Close\n",
       "0     1986-03-13    0.097222\n",
       "1     1986-03-14    0.100694\n",
       "2     1986-03-17    0.102431\n",
       "3     1986-03-18    0.099826\n",
       "4     1986-03-19    0.098090\n",
       "...          ...         ...\n",
       "9646  2024-06-24  447.670013\n",
       "9647  2024-06-25  450.950012\n",
       "9648  2024-06-26  452.160004\n",
       "9649  2024-06-27  452.850006\n",
       "9650  2024-06-28  446.950012\n",
       "\n",
       "[9651 rows x 2 columns]"
      ]
     },
     "execution_count": 2,
     "metadata": {},
     "output_type": "execute_result"
    }
   ],
   "source": [
    "data = data[['Date', 'Close']]\n",
    "data"
   ]
  },
  {
   "cell_type": "code",
   "execution_count": 3,
   "id": "cfd22d68-eaed-49aa-846b-f670b949874d",
   "metadata": {},
   "outputs": [],
   "source": [
    "device = 'cuda:0' if torch.cuda.is_available() else 'cpu'"
   ]
  },
  {
   "cell_type": "code",
   "execution_count": 4,
   "id": "d98686eb-a9c0-4d71-99f3-c7ee352b05b9",
   "metadata": {},
   "outputs": [
    {
     "data": {
      "text/plain": [
       "[<matplotlib.lines.Line2D at 0x1f5e8543bf0>]"
      ]
     },
     "execution_count": 4,
     "metadata": {},
     "output_type": "execute_result"
    },
    {
     "data": {
      "image/png": "[encoded data removed]",
      "text/plain": [
       "<Figure size 640x480 with 1 Axes>"
      ]
     },
     "metadata": {},
     "output_type": "display_data"
    }
   ],
   "source": [
    "data.loc[:, 'Date'] = pd.to_datetime(data['Date'])\n",
    "\n",
    "plt.plot(data['Date'], data['Close'])"
   ]
  },
  {
   "cell_type": "code",
   "execution_count": 5,
   "id": "08f5b34d-bd90-48c5-95a6-9d04cb18efe0",
   "metadata": {
    "scrolled": true
   },
   "outputs": [
    {
     "data": {
      "text/html": [
       "<div>\n",
       "<style scoped>\n",
       "    .dataframe tbody tr th:only-of-type {\n",
       "        vertical-align: middle;\n",
       "    }\n",
       "\n",
       "    .dataframe tbody tr th {\n",
       "        vertical-align: top;\n",
       "    }\n",
       "\n",
       "    .dataframe thead th {\n",
       "        text-align: right;\n",
       "    }\n",
       "</style>\n",
       "<table border=\"1\" class=\"dataframe\">\n",
       "  <thead>\n",
       "    <tr style=\"text-align: right;\">\n",
       "      <th></th>\n",
       "      <th>Close</th>\n",
       "      <th>Close(t-1)</th>\n",
       "      <th>Close(t-2)</th>\n",
       "      <th>Close(t-3)</th>\n",
       "      <th>Close(t-4)</th>\n",
       "      <th>Close(t-5)</th>\n",
       "      <th>Close(t-6)</th>\n",
       "      <th>Close(t-7)</th>\n",
       "    </tr>\n",
       "    <tr>\n",
       "      <th>Date</th>\n",
       "      <th></th>\n",
       "      <th></th>\n",
       "      <th></th>\n",
       "      <th></th>\n",
       "      <th></th>\n",
       "      <th></th>\n",
       "      <th></th>\n",
       "      <th></th>\n",
       "    </tr>\n",
       "  </thead>\n",
       "  <tbody>\n",
       "    <tr>\n",
       "      <th>1986-03-24</th>\n",
       "      <td>0.090278</td>\n",
       "      <td>0.092882</td>\n",
       "      <td>0.095486</td>\n",
       "      <td>0.098090</td>\n",
       "      <td>0.099826</td>\n",
       "      <td>0.102431</td>\n",
       "      <td>0.100694</td>\n",
       "      <td>0.097222</td>\n",
       "    </tr>\n",
       "    <tr>\n",
       "      <th>1986-03-25</th>\n",
       "      <td>0.092014</td>\n",
       "      <td>0.090278</td>\n",
       "      <td>0.092882</td>\n",
       "      <td>0.095486</td>\n",
       "      <td>0.098090</td>\n",
       "      <td>0.099826</td>\n",
       "      <td>0.102431</td>\n",
       "      <td>0.100694</td>\n",
       "    </tr>\n",
       "    <tr>\n",
       "      <th>1986-03-26</th>\n",
       "      <td>0.094618</td>\n",
       "      <td>0.092014</td>\n",
       "      <td>0.090278</td>\n",
       "      <td>0.092882</td>\n",
       "      <td>0.095486</td>\n",
       "      <td>0.098090</td>\n",
       "      <td>0.099826</td>\n",
       "      <td>0.102431</td>\n",
       "    </tr>\n",
       "    <tr>\n",
       "      <th>1986-03-27</th>\n",
       "      <td>0.096354</td>\n",
       "      <td>0.094618</td>\n",
       "      <td>0.092014</td>\n",
       "      <td>0.090278</td>\n",
       "      <td>0.092882</td>\n",
       "      <td>0.095486</td>\n",
       "      <td>0.098090</td>\n",
       "      <td>0.099826</td>\n",
       "    </tr>\n",
       "    <tr>\n",
       "      <th>1986-03-31</th>\n",
       "      <td>0.095486</td>\n",
       "      <td>0.096354</td>\n",
       "      <td>0.094618</td>\n",
       "      <td>0.092014</td>\n",
       "      <td>0.090278</td>\n",
       "      <td>0.092882</td>\n",
       "      <td>0.095486</td>\n",
       "      <td>0.098090</td>\n",
       "    </tr>\n",
       "    <tr>\n",
       "      <th>...</th>\n",
       "      <td>...</td>\n",
       "      <td>...</td>\n",
       "      <td>...</td>\n",
       "      <td>...</td>\n",
       "      <td>...</td>\n",
       "      <td>...</td>\n",
       "      <td>...</td>\n",
       "      <td>...</td>\n",
       "    </tr>\n",
       "    <tr>\n",
       "      <th>2024-06-24</th>\n",
       "      <td>447.670013</td>\n",
       "      <td>449.779999</td>\n",
       "      <td>445.700012</td>\n",
       "      <td>446.339996</td>\n",
       "      <td>448.369995</td>\n",
       "      <td>442.570007</td>\n",
       "      <td>441.579987</td>\n",
       "      <td>441.059998</td>\n",
       "    </tr>\n",
       "    <tr>\n",
       "      <th>2024-06-25</th>\n",
       "      <td>450.950012</td>\n",
       "      <td>447.670013</td>\n",
       "      <td>449.779999</td>\n",
       "      <td>445.700012</td>\n",
       "      <td>446.339996</td>\n",
       "      <td>448.369995</td>\n",
       "      <td>442.570007</td>\n",
       "      <td>441.579987</td>\n",
       "    </tr>\n",
       "    <tr>\n",
       "      <th>2024-06-26</th>\n",
       "      <td>452.160004</td>\n",
       "      <td>450.950012</td>\n",
       "      <td>447.670013</td>\n",
       "      <td>449.779999</td>\n",
       "      <td>445.700012</td>\n",
       "      <td>446.339996</td>\n",
       "      <td>448.369995</td>\n",
       "      <td>442.570007</td>\n",
       "    </tr>\n",
       "    <tr>\n",
       "      <th>2024-06-27</th>\n",
       "      <td>452.850006</td>\n",
       "      <td>452.160004</td>\n",
       "      <td>450.950012</td>\n",
       "      <td>447.670013</td>\n",
       "      <td>449.779999</td>\n",
       "      <td>445.700012</td>\n",
       "      <td>446.339996</td>\n",
       "      <td>448.369995</td>\n",
       "    </tr>\n",
       "    <tr>\n",
       "      <th>2024-06-28</th>\n",
       "      <td>446.950012</td>\n",
       "      <td>452.850006</td>\n",
       "      <td>452.160004</td>\n",
       "      <td>450.950012</td>\n",
       "      <td>447.670013</td>\n",
       "      <td>449.779999</td>\n",
       "      <td>445.700012</td>\n",
       "      <td>446.339996</td>\n",
       "    </tr>\n",
       "  </tbody>\n",
       "</table>\n",
       "<p>9644 rows × 8 columns</p>\n",
       "</div>"
      ],
      "text/plain": [
       "                 Close  Close(t-1)  Close(t-2)  Close(t-3)  Close(t-4)  \\\n",
       "Date                                                                     \n",
       "1986-03-24    0.090278    0.092882    0.095486    0.098090    0.099826   \n",
       "1986-03-25    0.092014    0.090278    0.092882    0.095486    0.098090   \n",
       "1986-03-26    0.094618    0.092014    0.090278    0.092882    0.095486   \n",
       "1986-03-27    0.096354    0.094618    0.092014    0.090278    0.092882   \n",
       "1986-03-31    0.095486    0.096354    0.094618    0.092014    0.090278   \n",
       "...                ...         ...         ...         ...         ...   \n",
       "2024-06-24  447.670013  449.779999  445.700012  446.339996  448.369995   \n",
       "2024-06-25  450.950012  447.670013  449.779999  445.700012  446.339996   \n",
       "2024-06-26  452.160004  450.950012  447.670013  449.779999  445.700012   \n",
       "2024-06-27  452.850006  452.160004  450.950012  447.670013  449.779999   \n",
       "2024-06-28  446.950012  452.850006  452.160004  450.950012  447.670013   \n",
       "\n",
       "            Close(t-5)  Close(t-6)  Close(t-7)  \n",
       "Date                                            \n",
       "1986-03-24    0.102431    0.100694    0.097222  \n",
       "1986-03-25    0.099826    0.102431    0.100694  \n",
       "1986-03-26    0.098090    0.099826    0.102431  \n",
       "1986-03-27    0.095486    0.098090    0.099826  \n",
       "1986-03-31    0.092882    0.095486    0.098090  \n",
       "...                ...         ...         ...  \n",
       "2024-06-24  442.570007  441.579987  441.059998  \n",
       "2024-06-25  448.369995  442.570007  441.579987  \n",
       "2024-06-26  446.339996  448.369995  442.570007  \n",
       "2024-06-27  445.700012  446.339996  448.369995  \n",
       "2024-06-28  449.779999  445.700012  446.339996  \n",
       "\n",
       "[9644 rows x 8 columns]"
      ]
     },
     "execution_count": 5,
     "metadata": {},
     "output_type": "execute_result"
    }
   ],
   "source": [
    "from copy import deepcopy as dc\n",
    "import pandas as pd\n",
    "\n",
    "def prepare_dataframe_for_lstm(df, n_steps):\n",
    "    df = dc(df)\n",
    "\n",
    "    df.set_index(pd.to_datetime(df['Date']), inplace=True)\n",
    "    df.drop(columns=['Date'], inplace=True)\n",
    "\n",
    "    for i in range(1, n_steps + 1):\n",
    "        df[f'Close(t-{i})'] = df['Close'].shift(i)\n",
    "\n",
    "    df.dropna(inplace=True)\n",
    "    df = df.infer_objects()\n",
    "\n",
    "    return df\n",
    "\n",
    "lookback = 7\n",
    "shifted_df = prepare_dataframe_for_lstm(data, lookback)\n",
    "shifted_df"
   ]
  },
  {
   "cell_type": "code",
   "execution_count": 6,
   "id": "c84fd30b-cd0b-4495-a426-8325bb84239a",
   "metadata": {},
   "outputs": [
    {
     "data": {
      "text/plain": [
       "array([[9.02780000e-02, 9.28820000e-02, 9.54860000e-02, ...,\n",
       "        1.02431000e-01, 1.00694000e-01, 9.72220000e-02],\n",
       "       [9.20140000e-02, 9.02780000e-02, 9.28820000e-02, ...,\n",
       "        9.98260000e-02, 1.02431000e-01, 1.00694000e-01],\n",
       "       [9.46180000e-02, 9.20140000e-02, 9.02780000e-02, ...,\n",
       "        9.80900000e-02, 9.98260000e-02, 1.02431000e-01],\n",
       "       ...,\n",
       "       [4.52160004e+02, 4.50950012e+02, 4.47670013e+02, ...,\n",
       "        4.46339996e+02, 4.48369995e+02, 4.42570007e+02],\n",
       "       [4.52850006e+02, 4.52160004e+02, 4.50950012e+02, ...,\n",
       "        4.45700012e+02, 4.46339996e+02, 4.48369995e+02],\n",
       "       [4.46950012e+02, 4.52850006e+02, 4.52160004e+02, ...,\n",
       "        4.49779999e+02, 4.45700012e+02, 4.46339996e+02]])"
      ]
     },
     "execution_count": 6,
     "metadata": {},
     "output_type": "execute_result"
    }
   ],
   "source": [
    "shifted_df_as_np = shifted_df.to_numpy()\n",
    "\n",
    "shifted_df_as_np"
   ]
  },
  {
   "cell_type": "code",
   "execution_count": 7,
   "id": "51235c8a-1c69-40bd-ac89-2200af4abedf",
   "metadata": {},
   "outputs": [
    {
     "data": {
      "text/plain": [
       "(9644, 8)"
      ]
     },
     "execution_count": 7,
     "metadata": {},
     "output_type": "execute_result"
    }
   ],
   "source": [
    "shifted_df_as_np.shape"
   ]
  },
  {
   "cell_type": "code",
   "execution_count": 8,
   "id": "48b565da-592b-4c04-a7ac-e7925117ceed",
   "metadata": {},
   "outputs": [
    {
     "data": {
      "text/plain": [
       "array([[-1.        , -0.9999885 , -0.99997696, ..., -0.99994595,\n",
       "        -0.99995353, -0.99996902],\n",
       "       [-0.99999233, -1.        , -0.99998848, ..., -0.99995754,\n",
       "        -0.99994578, -0.99995353],\n",
       "       [-0.99998083, -0.99999233, -1.        , ..., -0.99996526,\n",
       "        -0.9999574 , -0.99994578],\n",
       "       ...,\n",
       "       [ 0.99695202,  0.99160705,  0.98013585, ...,  0.98470055,\n",
       "         1.        ,  0.97412335],\n",
       "       [ 1.        ,  0.99695202,  0.99464688, ...,  0.98185421,\n",
       "         0.99094316,  1.        ],\n",
       "       [ 0.97393764,  1.        ,  1.        , ...,  1.        ,\n",
       "         0.98808787,  0.99094316]])"
      ]
     },
     "execution_count": 8,
     "metadata": {},
     "output_type": "execute_result"
    }
   ],
   "source": [
    "from sklearn.preprocessing import MinMaxScaler\n",
    "\n",
    "scaler = MinMaxScaler(feature_range=(-1, 1))\n",
    "shifted_df_as_np = scaler.fit_transform(shifted_df_as_np)\n",
    "\n",
    "shifted_df_as_np"
   ]
  },
  {
   "cell_type": "code",
   "execution_count": 9,
   "id": "a1bf30ca-ebaf-47af-9d36-6324b941ee03",
   "metadata": {},
   "outputs": [
    {
     "data": {
      "text/plain": [
       "((9644, 7), (9644,))"
      ]
     },
     "execution_count": 9,
     "metadata": {},
     "output_type": "execute_result"
    }
   ],
   "source": [
    "X = shifted_df_as_np[:, 1:]\n",
    "y = shifted_df_as_np[:, 0]\n",
    "\n",
    "X.shape, y.shape"
   ]
  },
  {
   "cell_type": "code",
   "execution_count": 10,
   "id": "0c0eb33c-a91c-41ea-83d3-0284e3acdd32",
   "metadata": {},
   "outputs": [
    {
     "data": {
      "text/plain": [
       "array([[-0.99996902, -0.99995353, -0.99994595, ..., -0.99996535,\n",
       "        -0.99997696, -0.9999885 ],\n",
       "       [-0.99995353, -0.99994578, -0.99995754, ..., -0.9999769 ,\n",
       "        -0.99998848, -1.        ],\n",
       "       [-0.99994578, -0.9999574 , -0.99996526, ..., -0.99998845,\n",
       "        -1.        , -0.99999233],\n",
       "       ...,\n",
       "       [ 0.97412335,  1.        ,  0.98470055, ...,  0.99480986,\n",
       "         0.98013585,  0.99160705],\n",
       "       [ 1.        ,  0.99094316,  0.98185421, ...,  0.98545002,\n",
       "         0.99464688,  0.99695202],\n",
       "       [ 0.99094316,  0.98808787,  1.        , ...,  1.        ,\n",
       "         1.        ,  1.        ]])"
      ]
     },
     "execution_count": 10,
     "metadata": {},
     "output_type": "execute_result"
    }
   ],
   "source": [
    "X = dc(np.flip(X, axis=1))\n",
    "X"
   ]
  },
  {
   "cell_type": "code",
   "execution_count": 11,
   "id": "9b73740d-8d20-40f1-952a-7115287572d7",
   "metadata": {},
   "outputs": [
    {
     "data": {
      "text/plain": [
       "9161"
      ]
     },
     "execution_count": 11,
     "metadata": {},
     "output_type": "execute_result"
    }
   ],
   "source": [
    "split_index = int(len(X) * 0.95)\n",
    "\n",
    "split_index"
   ]
  },
  {
   "cell_type": "code",
   "execution_count": 12,
   "id": "1c26c9fa-17fe-436c-9710-bf69f69c8efd",
   "metadata": {},
   "outputs": [
    {
     "data": {
      "text/plain": [
       "((9161, 7), (483, 7), (9161,), (483,))"
      ]
     },
     "execution_count": 12,
     "metadata": {},
     "output_type": "execute_result"
    }
   ],
   "source": [
    "X_train = X[:split_index]\n",
    "X_test = X[split_index:]\n",
    "\n",
    "y_train = y[:split_index]\n",
    "y_test = y[split_index:]\n",
    "\n",
    "X_train.shape, X_test.shape, y_train.shape, y_test.shape"
   ]
  },
  {
   "cell_type": "code",
   "execution_count": 13,
   "id": "256e512b-7549-410b-a95c-1abfc3d806f7",
   "metadata": {},
   "outputs": [
    {
     "data": {
      "text/plain": [
       "((9161, 7, 1), (483, 7, 1), (9161, 1), (483, 1))"
      ]
     },
     "execution_count": 13,
     "metadata": {},
     "output_type": "execute_result"
    }
   ],
   "source": [
    "X_train = X_train.reshape((-1, lookback, 1))\n",
    "X_test = X_test.reshape((-1, lookback, 1))\n",
    "\n",
    "y_train = y_train.reshape((-1, 1))\n",
    "y_test = y_test.reshape((-1, 1))\n",
    "\n",
    "X_train.shape, X_test.shape, y_train.shape, y_test.shape"
   ]
  },
  {
   "cell_type": "code",
   "execution_count": 14,
   "id": "b96b6238-b516-42c6-9b13-320199ae232d",
   "metadata": {},
   "outputs": [
    {
     "data": {
      "text/plain": [
       "(torch.Size([9161, 7, 1]),\n",
       " torch.Size([483, 7, 1]),\n",
       " torch.Size([9161, 1]),\n",
       " torch.Size([483, 1]))"
      ]
     },
     "execution_count": 14,
     "metadata": {},
     "output_type": "execute_result"
    }
   ],
   "source": [
    "X_train = torch.tensor(X_train).float()\n",
    "y_train = torch.tensor(y_train).float()\n",
    "X_test = torch.tensor(X_test).float()\n",
    "y_test = torch.tensor(y_test).float()\n",
    "\n",
    "X_train.shape, X_test.shape, y_train.shape, y_test.shape"
   ]
  },
  {
   "cell_type": "code",
   "execution_count": 15,
   "id": "b4c64fbd-04e8-455f-82db-45588f6ad96a",
   "metadata": {},
   "outputs": [],
   "source": [
    "from torch.utils.data import Dataset\n",
    "\n",
    "class TimeSeriesDataset(Dataset):\n",
    "    def __init__(self, X, y):\n",
    "        self.X = X\n",
    "        self.y = y\n",
    "\n",
    "    def __len__(self):\n",
    "        return len(self.X)\n",
    "\n",
    "    def __getitem__(self, i):\n",
    "        return self.X[i], self.y[i]\n",
    "    \n",
    "train_dataset = TimeSeriesDataset(X_train, y_train)\n",
    "test_dataset = TimeSeriesDataset(X_test, y_test)"
   ]
  },
  {
   "cell_type": "code",
   "execution_count": 16,
   "id": "0e84ff09-95ed-4492-a016-46401704ea2f",
   "metadata": {},
   "outputs": [
    {
     "data": {
      "text/plain": [
       "<__main__.TimeSeriesDataset at 0x1f5e745e780>"
      ]
     },
     "execution_count": 16,
     "metadata": {},
     "output_type": "execute_result"
    }
   ],
   "source": [
    "train_dataset"
   ]
  },
  {
   "cell_type": "code",
   "execution_count": 17,
   "id": "b7834dfb-8990-4168-bce1-9d55983853f7",
   "metadata": {},
   "outputs": [],
   "source": [
    "from torch.utils.data import DataLoader\n",
    "\n",
    "batch_size = 16\n",
    "\n",
    "train_loader = DataLoader(train_dataset, batch_size=batch_size, shuffle=True)\n",
    "test_loader = DataLoader(test_dataset, batch_size=batch_size, shuffle=False)"
   ]
  },
  {
   "cell_type": "code",
   "execution_count": 18,
   "id": "3c54b407-7909-4c89-b815-2256edfca297",
   "metadata": {},
   "outputs": [
    {
     "name": "stdout",
     "output_type": "stream",
     "text": [
      "torch.Size([16, 7, 1]) torch.Size([16, 1])\n"
     ]
    }
   ],
   "source": [
    "for _, batch in enumerate(train_loader):\n",
    "    x_batch, y_batch = batch[0].to(device), batch[1].to(device)\n",
    "    print(x_batch.shape, y_batch.shape)\n",
    "    break"
   ]
  },
  {
   "cell_type": "code",
   "execution_count": 19,
   "id": "ade82d62-f07f-48bf-93ad-70b1513715a9",
   "metadata": {},
   "outputs": [
    {
     "data": {
      "text/plain": [
       "LSTM(\n",
       "  (lstm): LSTM(1, 4, batch_first=True)\n",
       "  (fc): Linear(in_features=4, out_features=1, bias=True)\n",
       ")"
      ]
     },
     "execution_count": 19,
     "metadata": {},
     "output_type": "execute_result"
    }
   ],
   "source": [
    "class LSTM(nn.Module):\n",
    "    def __init__(self, input_size, hidden_size, num_stacked_layers):\n",
    "        super().__init__()\n",
    "        self.hidden_size = hidden_size\n",
    "        self.num_stacked_layers = num_stacked_layers\n",
    "\n",
    "        self.lstm = nn.LSTM(input_size, hidden_size, num_stacked_layers, \n",
    "                            batch_first=True)\n",
    "        \n",
    "        self.fc = nn.Linear(hidden_size, 1)\n",
    "\n",
    "    def forward(self, x):\n",
    "        batch_size = x.size(0)\n",
    "        h0 = torch.zeros(self.num_stacked_layers, batch_size, self.hidden_size).to(device)\n",
    "        c0 = torch.zeros(self.num_stacked_layers, batch_size, self.hidden_size).to(device)\n",
    "        \n",
    "        out, _ = self.lstm(x, (h0, c0))\n",
    "        out = self.fc(out[:, -1, :])\n",
    "        return out\n",
    "\n",
    "model = LSTM(1, 4, 1)\n",
    "model.to(device)\n",
    "model"
   ]
  },
  {
   "cell_type": "code",
   "execution_count": 20,
   "id": "283229e2-bb90-4cad-9bb7-22c5a9d556a7",
   "metadata": {},
   "outputs": [],
   "source": [
    "def train_one_epoch():\n",
    "    model.train(True)\n",
    "    print(f'Epoch: {epoch + 1}')\n",
    "    running_loss = 0.0\n",
    "    \n",
    "    for batch_index, batch in enumerate(train_loader):\n",
    "        x_batch, y_batch = batch[0].to(device), batch[1].to(device)\n",
    "        \n",
    "        output = model(x_batch)\n",
    "        loss = loss_function(output, y_batch)\n",
    "        running_loss += loss.item()\n",
    "        \n",
    "        optimizer.zero_grad()\n",
    "        loss.backward()\n",
    "        optimizer.step()\n",
    "\n",
    "        if batch_index % 100 == 99:  # print every 100 batches\n",
    "            avg_loss_across_batches = running_loss / 100\n",
    "            print('Batch {0}, Loss: {1:.3f}'.format(batch_index+1,\n",
    "                                                    avg_loss_across_batches))\n",
    "            running_loss = 0.0\n",
    "    print()"
   ]
  },
  {
   "cell_type": "code",
   "execution_count": 21,
   "id": "3870ed67-aa09-42e6-9958-b824423b4efd",
   "metadata": {},
   "outputs": [],
   "source": [
    "def validate_one_epoch():\n",
    "    model.train(False)\n",
    "    running_loss = 0.0\n",
    "    \n",
    "    for batch_index, batch in enumerate(test_loader):\n",
    "        x_batch, y_batch = batch[0].to(device), batch[1].to(device)\n",
    "        \n",
    "        with torch.no_grad():\n",
    "            output = model(x_batch)\n",
    "            loss = loss_function(output, y_batch)\n",
    "            running_loss += loss.item()\n",
    "\n",
    "    avg_loss_across_batches = running_loss / len(test_loader)\n",
    "    \n",
    "    print('Val Loss: {0:.3f}'.format(avg_loss_across_batches))\n",
    "    print('***************************************************')\n",
    "    print()"
   ]
  },
  {
   "cell_type": "code",
   "execution_count": 22,
   "id": "8aa21af3-2910-4f3e-a643-737cf8beac01",
   "metadata": {},
   "outputs": [
    {
     "name": "stdout",
     "output_type": "stream",
     "text": [
      "Epoch: 1\n",
      "Batch 100, Loss: 0.336\n",
      "Batch 200, Loss: 0.095\n",
      "Batch 300, Loss: 0.021\n",
      "Batch 400, Loss: 0.019\n",
      "Batch 500, Loss: 0.012\n",
      "\n",
      "Val Loss: 0.312\n",
      "***************************************************\n",
      "\n",
      "Epoch: 2\n",
      "Batch 100, Loss: 0.004\n",
      "Batch 200, Loss: 0.003\n",
      "Batch 300, Loss: 0.002\n",
      "Batch 400, Loss: 0.001\n",
      "Batch 500, Loss: 0.001\n",
      "\n",
      "Val Loss: 0.082\n",
      "***************************************************\n",
      "\n",
      "Epoch: 3\n",
      "Batch 100, Loss: 0.000\n",
      "Batch 200, Loss: 0.000\n",
      "Batch 300, Loss: 0.000\n",
      "Batch 400, Loss: 0.000\n",
      "Batch 500, Loss: 0.000\n",
      "\n",
      "Val Loss: 0.049\n",
      "***************************************************\n",
      "\n",
      "Epoch: 4\n",
      "Batch 100, Loss: 0.000\n",
      "Batch 200, Loss: 0.000\n",
      "Batch 300, Loss: 0.000\n",
      "Batch 400, Loss: 0.000\n",
      "Batch 500, Loss: 0.000\n",
      "\n",
      "Val Loss: 0.047\n",
      "***************************************************\n",
      "\n",
      "Epoch: 5\n",
      "Batch 100, Loss: 0.000\n",
      "Batch 200, Loss: 0.000\n",
      "Batch 300, Loss: 0.000\n",
      "Batch 400, Loss: 0.000\n",
      "Batch 500, Loss: 0.000\n",
      "\n",
      "Val Loss: 0.036\n",
      "***************************************************\n",
      "\n",
      "Epoch: 6\n",
      "Batch 100, Loss: 0.000\n",
      "Batch 200, Loss: 0.000\n",
      "Batch 300, Loss: 0.000\n",
      "Batch 400, Loss: 0.000\n",
      "Batch 500, Loss: 0.000\n",
      "\n",
      "Val Loss: 0.028\n",
      "***************************************************\n",
      "\n",
      "Epoch: 7\n",
      "Batch 100, Loss: 0.000\n",
      "Batch 200, Loss: 0.000\n",
      "Batch 300, Loss: 0.000\n",
      "Batch 400, Loss: 0.000\n",
      "Batch 500, Loss: 0.000\n",
      "\n",
      "Val Loss: 0.022\n",
      "***************************************************\n",
      "\n",
      "Epoch: 8\n",
      "Batch 100, Loss: 0.000\n",
      "Batch 200, Loss: 0.000\n",
      "Batch 300, Loss: 0.000\n",
      "Batch 400, Loss: 0.000\n",
      "Batch 500, Loss: 0.000\n",
      "\n",
      "Val Loss: 0.017\n",
      "***************************************************\n",
      "\n",
      "Epoch: 9\n",
      "Batch 100, Loss: 0.000\n",
      "Batch 200, Loss: 0.000\n",
      "Batch 300, Loss: 0.000\n",
      "Batch 400, Loss: 0.000\n",
      "Batch 500, Loss: 0.000\n",
      "\n",
      "Val Loss: 0.013\n",
      "***************************************************\n",
      "\n",
      "Epoch: 10\n",
      "Batch 100, Loss: 0.000\n",
      "Batch 200, Loss: 0.000\n",
      "Batch 300, Loss: 0.000\n",
      "Batch 400, Loss: 0.000\n",
      "Batch 500, Loss: 0.000\n",
      "\n",
      "Val Loss: 0.010\n",
      "***************************************************\n",
      "\n"
     ]
    }
   ],
   "source": [
    "learning_rate = 0.001\n",
    "num_epochs = 10\n",
    "loss_function = nn.MSELoss()\n",
    "optimizer = torch.optim.Adam(model.parameters(), lr=learning_rate)\n",
    "\n",
    "for epoch in range(num_epochs):\n",
    "    train_one_epoch()\n",
    "    validate_one_epoch()"
   ]
  },
  {
   "cell_type": "code",
   "execution_count": 23,
   "id": "60ca81e3-c662-4c1b-84ba-dce522c5e8e7",
   "metadata": {},
   "outputs": [
    {
     "data": {
      "image/png": "[encoded data removed]",
      "text/plain": [
       "<Figure size 640x480 with 1 Axes>"
      ]
     },
     "metadata": {},
     "output_type": "display_data"
    }
   ],
   "source": [
    "with torch.no_grad():\n",
    "    predicted = model(X_train.to(device)).to('cpu').numpy()\n",
    "\n",
    "plt.plot(y_train, label='Actual Close')\n",
    "plt.plot(predicted, label='Predicted Close')\n",
    "plt.xlabel('Day')\n",
    "plt.ylabel('Close')\n",
    "plt.legend()\n",
    "plt.show()"
   ]
  },
  {
   "cell_type": "code",
   "execution_count": 24,
   "id": "64ccf408-83d2-4909-adec-1971f4bfeda2",
   "metadata": {},
   "outputs": [
    {
     "data": {
      "text/plain": [
       "array([  0.54520432,   0.54340971,   0.54247867, ..., 263.5376437 ,\n",
       "       263.39898664, 261.27734199])"
      ]
     },
     "execution_count": 24,
     "metadata": {},
     "output_type": "execute_result"
    }
   ],
   "source": [
    "train_predictions = predicted.flatten()\n",
    "\n",
    "dummies = np.zeros((X_train.shape[0], lookback+1))\n",
    "dummies[:, 0] = train_predictions\n",
    "dummies = scaler.inverse_transform(dummies)\n",
    "\n",
    "train_predictions = dc(dummies[:, 0])\n",
    "train_predictions"
   ]
  },
  {
   "cell_type": "code",
   "execution_count": 25,
   "id": "f74305a5-66c0-4fea-8f4f-f1d8dbc93f2e",
   "metadata": {},
   "outputs": [
    {
     "data": {
      "text/plain": [
       "array([9.02780000e-02, 9.20186346e-02, 9.46228398e-02, ...,\n",
       "       2.58829986e+02, 2.51899994e+02, 2.68739989e+02])"
      ]
     },
     "execution_count": 25,
     "metadata": {},
     "output_type": "execute_result"
    }
   ],
   "source": [
    "dummies = np.zeros((X_train.shape[0], lookback+1))\n",
    "dummies[:, 0] = y_train.flatten()\n",
    "dummies = scaler.inverse_transform(dummies)\n",
    "\n",
    "new_y_train = dc(dummies[:, 0])\n",
    "new_y_train"
   ]
  },
  {
   "cell_type": "code",
   "execution_count": 26,
   "id": "a236721f-4103-4366-8f42-6d978e2f6608",
   "metadata": {},
   "outputs": [
    {
     "data": {
      "image/png": "[encoded data removed]",
      "text/plain": [
       "<Figure size 640x480 with 1 Axes>"
      ]
     },
     "metadata": {},
     "output_type": "display_data"
    }
   ],
   "source": [
    "plt.plot(new_y_train, label='Actual Close')\n",
    "plt.plot(train_predictions, label='Predicted Close')\n",
    "plt.xlabel('Day')\n",
    "plt.ylabel('Close')\n",
    "plt.legend()\n",
    "plt.show()\n"
   ]
  },
  {
   "cell_type": "code",
   "execution_count": 27,
   "id": "56c3ef6f-3b7f-422d-bc11-f4bd1f94daaa",
   "metadata": {},
   "outputs": [
    {
     "data": {
      "text/plain": [
       "array([264.31771787, 268.46786299, 272.67550302, 275.15813371,\n",
       "       276.44153462, 279.43612776, 282.23223459, 283.52397436,\n",
       "       283.57721889, 283.95287212, 286.04813739, 287.259754  ,\n",
       "       289.09540834, 290.88812704, 292.15135548, 292.89244752,\n",
       "       293.0859818 , 291.98677781, 289.10528543, 286.25161623,\n",
       "       283.75487156, 282.59421912, 279.02489272, 275.54215278,\n",
       "       272.41532538, 269.90385954, 267.71153702, 264.86905375,\n",
       "       261.8284215 , 261.26506309, 261.07726346, 262.66194259,\n",
       "       264.55273052, 262.06871003, 260.37256283, 257.22951649,\n",
       "       254.40353552, 252.1331813 , 249.59167939, 246.62802636,\n",
       "       245.54539213, 243.85137686, 242.69049503, 241.54120394,\n",
       "       242.06575564, 241.49608237, 239.83296   , 240.84353331,\n",
       "       244.08294873, 246.60605928, 247.84464898, 244.99336808,\n",
       "       241.48636046, 237.8180068 , 234.82315053, 234.82952611,\n",
       "       233.14582647, 234.72453481, 236.65848104, 237.67469455,\n",
       "       238.46809333, 240.79645521, 243.73246723, 247.08493619,\n",
       "       243.67469571, 239.69946412, 239.48654673, 238.17497857,\n",
       "       235.76025962, 231.35132666, 226.2054576 , 225.28500598,\n",
       "       226.71957898, 227.76188177, 227.3569346 , 232.80983002,\n",
       "       238.31599695, 240.93090237, 242.76524787, 243.85374494,\n",
       "       244.60488273, 245.13471031, 245.0914913 , 245.79111846,\n",
       "       247.25775827, 248.32368781, 247.48949206, 246.44508432,\n",
       "       249.92588123, 252.3644833 , 254.18275829, 254.13631438,\n",
       "       252.67693395, 251.53944949, 251.53437601, 250.39645976,\n",
       "       251.58501634, 253.75294298, 255.67921827, 255.0319181 ,\n",
       "       253.32895678, 250.68634964, 249.08935114, 248.3426189 ,\n",
       "       245.81405705, 244.0900462 , 242.60466421, 240.93516625,\n",
       "       241.7389886 , 241.94164435, 241.94538199, 239.08519552,\n",
       "       234.87805474, 232.57918244, 231.58620439, 231.13229006,\n",
       "       232.94215873, 235.15177965, 237.38497334, 239.61003058,\n",
       "       239.83741953, 238.76811667, 240.33934298, 241.93948542,\n",
       "       242.87202028, 243.14007801, 245.47328398, 247.43277975,\n",
       "       247.44670483, 248.62481759, 250.84084782, 255.84471349,\n",
       "       257.92965639, 258.81561241, 262.46820591, 265.19370234,\n",
       "       266.21227043, 266.6399403 , 268.73643346, 270.79942278,\n",
       "       271.66068607, 270.01766196, 267.66927603, 264.46380973,\n",
       "       261.62352587, 260.00631442, 257.21343249, 255.49301085,\n",
       "       254.28278405, 252.64090687, 252.97251799, 254.44602589,\n",
       "       255.90467768, 256.467213  , 256.74486445, 256.59925834,\n",
       "       255.52601544, 256.00083087, 258.11602574, 260.95736207,\n",
       "       266.13732869, 270.97344576, 272.86427417, 274.83343114,\n",
       "       275.724744  , 277.47879092, 279.35327895, 279.32857274,\n",
       "       278.91937518, 280.22134287, 282.05918313, 284.58330568,\n",
       "       286.09058729, 287.16751386, 287.47158518, 289.47714705,\n",
       "       290.29026628, 289.1731297 , 288.27470588, 289.15480581,\n",
       "       288.95501065, 289.53021616, 289.62682813, 289.83757985,\n",
       "       289.68206967, 289.41532079, 287.97824478, 285.38596761,\n",
       "       288.14181045, 292.58963108, 296.66984047, 299.62273934,\n",
       "       301.95249103, 303.68872681, 305.40416942, 307.06574681,\n",
       "       307.5861021 , 307.55431191, 308.74908889, 309.24995986,\n",
       "       309.41926019, 309.59490236, 310.02504151, 310.93628395,\n",
       "       312.67423337, 313.85580042, 315.48368507, 315.61919819,\n",
       "       315.36271771, 317.49870573, 320.51861229, 322.47934945,\n",
       "       323.52869573, 325.08093698, 327.07107602, 328.75926219,\n",
       "       329.21798012, 327.3834862 , 326.23574683, 325.66546637,\n",
       "       325.98860371, 326.65208234, 327.8086868 , 330.86351399,\n",
       "       332.74086261, 333.37056753, 332.94771476, 333.43711644,\n",
       "       332.88862764, 331.07441414, 330.27575971, 330.14680433,\n",
       "       330.08365572, 331.19397819, 331.47921288, 331.92441053,\n",
       "       333.05520232, 333.03183194, 331.94950805, 331.14546981,\n",
       "       331.14561823, 332.25004413, 333.64186365, 334.80842615,\n",
       "       338.27006259, 340.61538554, 341.07410347, 340.65278894,\n",
       "       340.25971587, 340.77802018, 338.94832987, 335.61301762,\n",
       "       334.37977127, 333.28736789, 332.55860872, 330.3085619 ,\n",
       "       328.09896797, 327.02159612, 326.82333919, 325.62308394,\n",
       "       324.00495494, 322.83419602, 321.84737765, 321.65577291,\n",
       "       321.04331242, 320.18859337, 318.96087927, 318.01118094,\n",
       "       318.30831671, 318.75742742, 319.93761815, 319.62483016,\n",
       "       320.01543396, 320.60800535, 321.99226862, 322.98747981,\n",
       "       323.57003918, 324.06645737, 325.65562976, 326.70330287,\n",
       "       326.9369662 , 327.7475352 , 329.0899018 , 329.0832631 ,\n",
       "       329.7795844 , 330.67107267, 329.88168814, 329.05106811,\n",
       "       328.10178807, 325.67779924, 323.61232715, 321.241259  ,\n",
       "       319.33755799, 317.03909724, 315.35169369, 314.2321688 ,\n",
       "       314.10552076, 315.33841629, 314.73967847, 315.38784222,\n",
       "       316.21844875, 318.44021363, 320.71253787, 322.18241608,\n",
       "       323.93929659, 325.41890345, 325.70732256, 326.7863271 ,\n",
       "       327.25233141, 327.15849906, 327.34133316, 326.46830371,\n",
       "       326.28677846, 326.49041922, 328.37259843, 327.62327548,\n",
       "       327.38251468, 328.5647429 , 329.85613184, 332.21842935,\n",
       "       334.51280163, 336.83672422, 339.80860815, 342.76079188,\n",
       "       345.30055316, 346.92023388, 349.25882367, 350.68807358,\n",
       "       352.1615275 , 353.16472673, 354.74023042, 355.12420901,\n",
       "       356.46613033, 356.75811166, 357.67660001, 358.30158228,\n",
       "       358.96653168, 359.86391651, 360.33194482, 360.44356132,\n",
       "       360.08140138, 358.84155681, 358.19930313, 357.13481737,\n",
       "       356.38488722, 356.3845364 , 356.050456  , 356.34170869,\n",
       "       356.78795882, 355.88523064, 355.82509104, 356.00040938,\n",
       "       356.14272312, 355.99868224, 356.17058677, 356.51544831,\n",
       "       357.07765979, 357.29322861, 357.56630584, 357.89169656,\n",
       "       357.54093846, 357.05110499, 356.23326311, 355.48836596,\n",
       "       355.84754388, 356.33728289, 357.69926874, 359.32351019,\n",
       "       361.1841811 , 363.04582353, 364.46229528, 365.89560666,\n",
       "       367.60450503, 368.59601907, 369.57722423, 370.6941719 ,\n",
       "       371.8472816 , 372.73120013, 373.8964268 , 374.69555349,\n",
       "       374.26376817, 374.29321053, 375.03366838, 375.12806745,\n",
       "       375.12237328, 375.82197345, 376.59567878, 378.10471452,\n",
       "       378.78561299, 378.24482885, 378.0912752 , 377.69246748,\n",
       "       376.81033006, 375.88841442, 374.88246256, 375.15991162,\n",
       "       375.6521199 , 375.6973764 , 375.78894188, 375.95895735,\n",
       "       376.69477351, 377.55289287, 377.99034538, 377.22414232,\n",
       "       376.40509953, 376.3898791 , 376.15385445, 375.57385881,\n",
       "       376.09788428, 376.74445581, 378.53250583, 379.38064015,\n",
       "       379.84103125, 380.66814303, 381.74002311, 382.73658363,\n",
       "       383.56760846, 383.5429967 , 383.53468483, 383.44114934,\n",
       "       383.16863882, 383.13711849, 382.82237398, 382.46005212,\n",
       "       382.07821896, 382.3941239 , 382.71100035, 383.10770312,\n",
       "       383.13960126, 383.58207327, 383.56140155, 382.77360923,\n",
       "       381.85320483, 380.86198765, 379.22452277, 377.27946481,\n",
       "       375.63258162, 375.13076611, 375.19499418, 374.26225692,\n",
       "       374.20358809, 374.07685909, 372.65722991, 371.80801612,\n",
       "       371.29502817, 371.82674481, 373.37796057, 374.17889536,\n",
       "       375.06427117, 376.32065852, 377.41822982, 378.14039078,\n",
       "       378.72378672, 379.66532161, 380.47154577, 380.99751427,\n",
       "       381.80851505, 382.80313255, 383.81256567, 384.30633918,\n",
       "       384.7505923 , 385.23446173, 385.54332317, 384.46777292,\n",
       "       383.24144862, 382.03439275, 381.2792272 , 381.29908933,\n",
       "       381.5183823 , 381.74250587, 382.63524902, 383.81475159,\n",
       "       385.52197679, 387.0211894 , 388.14410111, 389.46660559,\n",
       "       390.52804186, 391.20591783, 391.88136501, 392.20201959,\n",
       "       392.60492927, 393.0463488 , 393.35850261])"
      ]
     },
     "execution_count": 27,
     "metadata": {},
     "output_type": "execute_result"
    }
   ],
   "source": [
    "test_predictions = model(X_test.to(device)).detach().cpu().numpy().flatten()\n",
    "\n",
    "dummies = np.zeros((X_test.shape[0], lookback+1))\n",
    "dummies[:, 0] = test_predictions\n",
    "dummies = scaler.inverse_transform(dummies)\n",
    "\n",
    "test_predictions = dc(dummies[:, 0])\n",
    "test_predictions"
   ]
  },
  {
   "cell_type": "code",
   "execution_count": 28,
   "id": "88d4514f-e62d-4559-9e5d-ccff04d4faf7",
   "metadata": {},
   "outputs": [
    {
     "data": {
      "text/plain": [
       "array([276.41000417, 280.73999126, 278.01001168, 274.82000532,\n",
       "       282.46999988, 283.64999495, 282.91000262, 280.32000582,\n",
       "       282.29998778, 289.16000073, 287.0199917 , 291.91000098,\n",
       "       293.47000087, 292.70999124, 291.32000681, 290.17001407,\n",
       "       286.1499915 , 277.74999933, 276.44000313, 275.79000767,\n",
       "       278.85000617, 268.08999686, 265.23000942, 262.97000118,\n",
       "       261.47000257, 260.39999469, 256.05999895, 253.25000079,\n",
       "       258.08999718, 258.51998789, 264.45999113, 266.6499928 ,\n",
       "       251.99000567, 252.22000051, 245.38000486, 244.74000455,\n",
       "       244.52000318, 242.44999735, 238.94999696, 240.97999602,\n",
       "       237.91999837, 237.44999667, 236.41000377, 241.0700064 ,\n",
       "       237.50000028, 232.89999388, 240.74000434, 248.88000441,\n",
       "       249.19999781, 246.78999309, 234.24000506, 229.24999995,\n",
       "       225.41000403, 225.74999998, 234.24000506, 228.55999794,\n",
       "       237.52999924, 238.49999991, 236.479996  , 236.14999395,\n",
       "       242.1199953 , 247.24999963, 250.66000399, 231.32000705,\n",
       "       226.75000001, 235.86999466, 232.13000511, 228.16999796,\n",
       "       220.10000595, 214.25000001, 221.38999918, 227.86999498,\n",
       "       228.86999492, 224.50999496, 242.97999529, 247.11000167,\n",
       "       241.55000325, 241.9700005 , 241.72999533, 241.67999256,\n",
       "       241.2200012 , 242.05000222, 245.029999  , 247.58000168,\n",
       "       247.4900048 , 241.75999429, 240.33000225, 255.13999936,\n",
       "       254.69000147, 255.02000352, 250.19999744, 245.11999419,\n",
       "       244.36999489, 247.39999443, 245.41999729, 252.50999495,\n",
       "       256.92001412, 257.22000035, 249.0099954 , 244.69000179,\n",
       "       240.44999725, 241.80000358, 244.42999281, 238.19000166,\n",
       "       238.72999559, 236.96000719, 234.52999866, 241.00999498,\n",
       "       239.82000728, 239.58000211, 229.10000599, 222.30999793,\n",
       "       224.92999295, 227.11999499, 228.85000609, 235.77000431,\n",
       "       238.50999506, 239.22999625, 240.35000606, 235.80999758,\n",
       "       231.92999321, 240.22000072, 242.58000184, 242.03999357,\n",
       "       240.6100007 , 248.00000062, 248.16000407, 242.71000633,\n",
       "       247.80999821, 252.75000013, 264.60000764, 258.35000615,\n",
       "       256.76998896, 267.55999724, 266.73001139, 263.61999663,\n",
       "       263.10000567, 271.32000745, 272.17001397, 269.32000819,\n",
       "       262.14999362, 258.05999822, 252.6699984 , 251.50999532,\n",
       "       254.77000319, 249.22000162, 250.16000333, 249.41999749,\n",
       "       246.2700038 , 251.11000019, 255.28999416, 256.86999449,\n",
       "       254.1499932 , 253.69999699, 252.32000772, 248.58999647,\n",
       "       253.91999836, 260.79000815, 265.44000214, 276.20001145,\n",
       "       279.42999169, 272.23001189, 273.77999976, 272.29000981,\n",
       "       277.66000245, 280.57000614, 276.38000521, 275.23001247,\n",
       "       280.5100116 , 284.04999008, 288.29998556, 287.23000804,\n",
       "       287.17999515, 284.33999465, 291.6000061 , 289.39001412,\n",
       "       282.8299874 , 283.48999151, 289.83999515, 286.14001321,\n",
       "       288.79998622, 288.36999551, 288.45001072, 286.10998389,\n",
       "       285.76000839, 281.76998816, 275.4200115 , 295.36999798,\n",
       "       304.82998939, 307.26000973, 305.5599967 , 305.41000527,\n",
       "       304.39999193, 305.41000527, 310.64999679, 308.64999415,\n",
       "       307.00000075, 312.30999547, 310.10998177, 308.97000105,\n",
       "       309.45998969, 311.73999161, 314.00000323, 318.51998597,\n",
       "       318.33999896, 321.17999271, 315.26000677, 313.85000505,\n",
       "       325.92001056, 332.89001745, 331.20998798, 328.39001827,\n",
       "       332.57998884, 335.39999229, 335.94000055, 333.67999569,\n",
       "       323.38000641, 325.2600132 , 326.79001076, 331.85000852,\n",
       "       334.29000715, 337.339997  , 348.10000632, 342.32999156,\n",
       "       338.04998701, 333.55999985, 339.70998568, 335.01998747,\n",
       "       328.60000762, 334.57000644, 335.85000705, 335.0499898 ,\n",
       "       340.54001201, 337.98998909, 338.14999254, 341.26998558,\n",
       "       337.22000116, 331.82998448, 332.46999828, 337.20001085,\n",
       "       342.66001049, 345.23999526, 345.73001763, 359.48999042,\n",
       "       355.07999149, 346.86999836, 343.76999562, 345.1099874 ,\n",
       "       350.98001443, 337.76998772, 330.71999934, 338.3699939 ,\n",
       "       335.92001024, 336.33999568, 327.50000077, 326.6600029 ,\n",
       "       327.78000006, 330.10998788, 326.04998469, 322.23001366,\n",
       "       322.92999165, 321.01001098, 324.04001051, 321.85998713,\n",
       "       320.39999277, 316.88000459, 316.48000946, 321.88000443,\n",
       "       322.45999332, 327.00000011, 319.97000205, 322.98001128,\n",
       "       323.70001331, 328.41000183, 328.79000665, 327.76000975,\n",
       "       328.66000554, 333.54998783, 332.88000543, 329.91000381,\n",
       "       334.26998985, 337.94000319, 331.76998656, 336.05999639,\n",
       "       338.70001283, 330.21999869, 329.06000067, 328.64999351,\n",
       "       320.76999231, 319.52999931, 317.01001245, 317.5400087 ,\n",
       "       312.14001373, 312.79000582, 313.64001571, 315.75000216,\n",
       "       321.79998921, 313.390012  , 318.95998871, 319.35998384,\n",
       "       327.26000909, 329.8200103 , 328.39001827, 332.42001238,\n",
       "       331.16000208, 327.73001416, 332.64001375, 332.05999787,\n",
       "       330.10998788, 331.32000553, 326.67001492, 329.32000964,\n",
       "       330.53000031, 340.67000638, 327.89001761, 329.80999828,\n",
       "       337.30999467, 338.10998493, 346.0700081 , 348.32000094,\n",
       "       352.79998957, 356.52999408, 360.52999935, 363.20001137,\n",
       "       360.6900028 , 369.6700176 , 366.67999868, 370.2699833 ,\n",
       "       369.6700176 , 376.17001941, 369.85000461, 377.440008  ,\n",
       "       373.07000318, 377.85000165, 377.42999597, 378.6099843 ,\n",
       "       382.70001681, 378.85000297, 378.91000764, 374.51000724,\n",
       "       369.1400146 , 372.51998964, 368.79998366, 370.9500182 ,\n",
       "       374.23000795, 371.2999937 , 374.37999938, 374.37000085,\n",
       "       365.92998757, 370.73001009, 372.6499975 , 373.26001571,\n",
       "       370.61999928, 373.540015  , 374.57998345, 374.65999867,\n",
       "       374.0700045 , 375.28000191, 376.04001155, 370.86998949,\n",
       "       370.60000222, 367.94000223, 367.75000319, 374.69000775,\n",
       "       375.79000785, 382.76999302, 384.63000276, 388.47000458,\n",
       "       390.26998266, 389.4700059 , 393.8699928 , 398.67001532,\n",
       "       396.51000923, 398.89999498, 402.55999629, 404.8699938 ,\n",
       "       403.92999715, 409.71999547, 408.58999978, 397.57998676,\n",
       "       403.78000572, 411.22000419, 405.65000049, 405.48998355,\n",
       "       414.04999267, 414.10998384, 420.54999449, 415.26000357,\n",
       "       406.32000988, 409.48998882, 406.56000156, 404.05999152,\n",
       "       402.79000293, 402.17999822, 411.64999491, 410.33999871,\n",
       "       407.54000582, 407.48001464, 407.72000632, 413.6400125 ,\n",
       "       415.49999525, 414.92001311, 402.64999654, 402.08999796,\n",
       "       409.14001332, 406.2199976 , 404.51999131, 415.28000063,\n",
       "       415.10000012, 425.21999564, 416.42000834, 417.32001088,\n",
       "       421.4100029 , 425.23000767, 429.36999234, 428.73999057,\n",
       "       422.8599785 , 421.64999458, 421.42998647, 420.71999646,\n",
       "       424.57001031, 421.43999849, 420.4500092 , 417.88000945,\n",
       "       425.51999199, 424.58999387, 426.28000163, 423.26001411,\n",
       "       427.92998828, 421.89999829, 413.6400125 , 414.57998217,\n",
       "       411.83999394, 404.26998761, 399.1199896 , 400.95998878,\n",
       "       407.5700014 , 409.0599981 , 399.04001486, 406.32000988,\n",
       "       402.25000141, 389.32998601, 394.93999732, 397.84000249,\n",
       "       406.66000034, 413.54001372, 409.33999739, 410.54000977,\n",
       "       412.32000429, 414.73998562, 413.72000074, 416.56000124,\n",
       "       423.07998662, 420.98998373, 420.20999053, 425.33999148,\n",
       "       429.0400139 , 430.51998509, 427.00000366, 430.15999756,\n",
       "       430.32000101, 429.17000827, 414.67000941, 415.1300092 ,\n",
       "       413.51998968, 416.07000586, 424.01001173, 424.51999067,\n",
       "       423.85000828, 427.86999711, 432.67999117, 441.05999978,\n",
       "       441.57999075, 442.57000703, 448.36999038, 446.33999216,\n",
       "       445.70000535, 449.77999885, 447.6700124 , 450.95001564,\n",
       "       452.15999956, 452.850006  , 446.95001037])"
      ]
     },
     "execution_count": 28,
     "metadata": {},
     "output_type": "execute_result"
    }
   ],
   "source": [
    "dummies = np.zeros((X_test.shape[0], lookback+1))\n",
    "dummies[:, 0] = y_test.flatten()\n",
    "dummies = scaler.inverse_transform(dummies)\n",
    "\n",
    "new_y_test = dc(dummies[:, 0])\n",
    "new_y_test"
   ]
  },
  {
   "cell_type": "code",
   "execution_count": 29,
   "id": "5de89d62-8f96-4df0-9308-dd8507566081",
   "metadata": {},
   "outputs": [
    {
     "data": {
      "image/png": "[encoded data removed]",
      "text/plain": [
       "<Figure size 640x480 with 1 Axes>"
      ]
     },
     "metadata": {},
     "output_type": "display_data"
    }
   ],
   "source": [
    "plt.plot(new_y_test, label='Actual Close')\n",
    "plt.plot(test_predictions, label='Predicted Close')\n",
    "plt.xlabel('Day')\n",
    "plt.ylabel('Close')\n",
    "plt.legend()\n",
    "plt.show()"
   ]
  },
  {
   "cell_type": "code",
   "execution_count": null,
   "id": "866df5ea-efb2-40ee-8a90-feb1c4c67e81",
   "metadata": {},
   "outputs": [],
   "source": []
  }
 ],
 "metadata": {
  "kernelspec": {
   "display_name": "Python 3 (ipykernel)",
   "language": "python",
   "name": "python3"
  },
  "language_info": {
   "codemirror_mode": {
    "name": "ipython",
    "version": 3
   },
   "file_extension": ".py",
   "mimetype": "text/x-python",
   "name": "python",
   "nbconvert_exporter": "python",
   "pygments_lexer": "ipython3",
   "version": "3.12.4"
  }
 },
 "nbformat": 4,
 "nbformat_minor": 5
}
